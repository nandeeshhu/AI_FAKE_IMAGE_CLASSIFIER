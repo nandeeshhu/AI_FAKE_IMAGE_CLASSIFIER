{
  "cells": [
    {
      "cell_type": "code",
      "execution_count": null,
      "metadata": {
        "colab": {
          "base_uri": "https://localhost:8080/"
        },
        "id": "UPCVhs7Js4al",
        "outputId": "eb2bc9c8-586c-4155-d043-d660dd786511"
      },
      "outputs": [
        {
          "output_type": "stream",
          "name": "stdout",
          "text": [
            "Drive already mounted at /content/drive; to attempt to forcibly remount, call drive.mount(\"/content/drive\", force_remount=True).\n"
          ]
        }
      ],
      "source": [
        "from google.colab import drive\n",
        "drive.mount('/content/drive')"
      ]
    },
    {
      "cell_type": "code",
      "execution_count": null,
      "metadata": {
        "colab": {
          "base_uri": "https://localhost:8080/"
        },
        "id": "ovXhWY6Sz-6A",
        "outputId": "64b58e42-6354-40e0-ddd1-82e421fd57aa"
      },
      "outputs": [
        {
          "output_type": "stream",
          "name": "stdout",
          "text": [
            "Collecting selenium\n",
            "  Downloading selenium-4.21.0-py3-none-any.whl (9.5 MB)\n",
            "\u001b[2K     \u001b[90m━━━━━━━━━━━━━━━━━━━━━━━━━━━━━━━━━━━━━━━━\u001b[0m \u001b[32m9.5/9.5 MB\u001b[0m \u001b[31m27.3 MB/s\u001b[0m eta \u001b[36m0:00:00\u001b[0m\n",
            "\u001b[?25hRequirement already satisfied: urllib3[socks]<3,>=1.26 in /usr/local/lib/python3.10/dist-packages (from selenium) (2.0.7)\n",
            "Collecting trio~=0.17 (from selenium)\n",
            "  Downloading trio-0.25.1-py3-none-any.whl (467 kB)\n",
            "\u001b[2K     \u001b[90m━━━━━━━━━━━━━━━━━━━━━━━━━━━━━━━━━━━━━━━━\u001b[0m \u001b[32m467.7/467.7 kB\u001b[0m \u001b[31m37.5 MB/s\u001b[0m eta \u001b[36m0:00:00\u001b[0m\n",
            "\u001b[?25hCollecting trio-websocket~=0.9 (from selenium)\n",
            "  Downloading trio_websocket-0.11.1-py3-none-any.whl (17 kB)\n",
            "Requirement already satisfied: certifi>=2021.10.8 in /usr/local/lib/python3.10/dist-packages (from selenium) (2024.6.2)\n",
            "Requirement already satisfied: typing_extensions>=4.9.0 in /usr/local/lib/python3.10/dist-packages (from selenium) (4.12.2)\n",
            "Requirement already satisfied: attrs>=23.2.0 in /usr/local/lib/python3.10/dist-packages (from trio~=0.17->selenium) (23.2.0)\n",
            "Requirement already satisfied: sortedcontainers in /usr/local/lib/python3.10/dist-packages (from trio~=0.17->selenium) (2.4.0)\n",
            "Requirement already satisfied: idna in /usr/local/lib/python3.10/dist-packages (from trio~=0.17->selenium) (3.7)\n",
            "Collecting outcome (from trio~=0.17->selenium)\n",
            "  Downloading outcome-1.3.0.post0-py2.py3-none-any.whl (10 kB)\n",
            "Requirement already satisfied: sniffio>=1.3.0 in /usr/local/lib/python3.10/dist-packages (from trio~=0.17->selenium) (1.3.1)\n",
            "Requirement already satisfied: exceptiongroup in /usr/local/lib/python3.10/dist-packages (from trio~=0.17->selenium) (1.2.1)\n",
            "Collecting wsproto>=0.14 (from trio-websocket~=0.9->selenium)\n",
            "  Downloading wsproto-1.2.0-py3-none-any.whl (24 kB)\n",
            "Requirement already satisfied: pysocks!=1.5.7,<2.0,>=1.5.6 in /usr/local/lib/python3.10/dist-packages (from urllib3[socks]<3,>=1.26->selenium) (1.7.1)\n",
            "Collecting h11<1,>=0.9.0 (from wsproto>=0.14->trio-websocket~=0.9->selenium)\n",
            "  Downloading h11-0.14.0-py3-none-any.whl (58 kB)\n",
            "\u001b[2K     \u001b[90m━━━━━━━━━━━━━━━━━━━━━━━━━━━━━━━━━━━━━━━━\u001b[0m \u001b[32m58.3/58.3 kB\u001b[0m \u001b[31m6.0 MB/s\u001b[0m eta \u001b[36m0:00:00\u001b[0m\n",
            "\u001b[?25hInstalling collected packages: outcome, h11, wsproto, trio, trio-websocket, selenium\n",
            "Successfully installed h11-0.14.0 outcome-1.3.0.post0 selenium-4.21.0 trio-0.25.1 trio-websocket-0.11.1 wsproto-1.2.0\n",
            "Requirement already satisfied: pillow in /usr/local/lib/python3.10/dist-packages (9.4.0)\n"
          ]
        }
      ],
      "source": [
        "!pip install selenium\n",
        "!pip install pillow"
      ]
    },
    {
      "cell_type": "code",
      "execution_count": null,
      "metadata": {
        "colab": {
          "base_uri": "https://localhost:8080/"
        },
        "id": "TeIL5GNFz_1s",
        "outputId": "ef3056da-7580-4589-edd0-1491cae2ef3a"
      },
      "outputs": [
        {
          "output_type": "stream",
          "name": "stdout",
          "text": [
            "\r0% [Working]\r            \rGet:1 https://cloud.r-project.org/bin/linux/ubuntu jammy-cran40/ InRelease [3,626 B]\n",
            "\r0% [Waiting for headers] [Waiting for headers] [1 InRelease 0 B/3,626 B 0%] [Connecting to ppa.launc\r                                                                                                    \rHit:2 http://archive.ubuntu.com/ubuntu jammy InRelease\n",
            "\r                                                                                                    \rGet:3 http://security.ubuntu.com/ubuntu jammy-security InRelease [129 kB]\n",
            "\r0% [Waiting for headers] [3 InRelease 14.2 kB/129 kB 11%] [1 InRelease 3,626 B/3,626 B 100%] [Connec\r0% [Waiting for headers] [3 InRelease 14.2 kB/129 kB 11%] [Connecting to ppa.launchpadcontent.net (1\r                                                                                                    \rGet:4 http://archive.ubuntu.com/ubuntu jammy-updates InRelease [128 kB]\n",
            "Hit:5 https://developer.download.nvidia.com/compute/cuda/repos/ubuntu2204/x86_64  InRelease\n",
            "Hit:6 http://archive.ubuntu.com/ubuntu jammy-backports InRelease\n",
            "Hit:7 https://ppa.launchpadcontent.net/c2d4u.team/c2d4u4.0+/ubuntu jammy InRelease\n",
            "Hit:8 https://ppa.launchpadcontent.net/deadsnakes/ppa/ubuntu jammy InRelease\n",
            "Get:9 http://security.ubuntu.com/ubuntu jammy-security/restricted amd64 Packages [2,453 kB]\n",
            "Hit:10 https://ppa.launchpadcontent.net/graphics-drivers/ppa/ubuntu jammy InRelease\n",
            "Hit:11 https://ppa.launchpadcontent.net/ubuntugis/ppa/ubuntu jammy InRelease\n",
            "Get:12 http://archive.ubuntu.com/ubuntu jammy-updates/main amd64 Packages [2,173 kB]\n",
            "Get:13 http://security.ubuntu.com/ubuntu jammy-security/universe amd64 Packages [1,090 kB]\n",
            "Get:14 http://security.ubuntu.com/ubuntu jammy-security/main amd64 Packages [1,900 kB]\n",
            "Get:15 http://archive.ubuntu.com/ubuntu jammy-updates/universe amd64 Packages [1,391 kB]\n",
            "Get:16 http://archive.ubuntu.com/ubuntu jammy-updates/restricted amd64 Packages [2,525 kB]\n",
            "Fetched 11.8 MB in 3s (4,210 kB/s)\n",
            "Reading package lists... Done\n",
            "Reading package lists... Done\n",
            "Building dependency tree... Done\n",
            "Reading state information... Done\n",
            "wget is already the newest version (1.21.2-2ubuntu1).\n",
            "unzip is already the newest version (6.0-26ubuntu3.2).\n",
            "0 upgraded, 0 newly installed, 0 to remove and 45 not upgraded.\n",
            "--2024-06-13 04:42:29--  https://storage.googleapis.com/chrome-for-testing-public/126.0.6478.55/linux64/chrome-linux64.zip\n",
            "Resolving storage.googleapis.com (storage.googleapis.com)... 74.125.126.207, 74.125.132.207, 74.125.201.207, ...\n",
            "Connecting to storage.googleapis.com (storage.googleapis.com)|74.125.126.207|:443... connected.\n",
            "HTTP request sent, awaiting response... 200 OK\n",
            "Length: 160106550 (153M) [application/zip]\n",
            "Saving to: ‘chrome-linux64.zip’\n",
            "\n",
            "chrome-linux64.zip  100%[===================>] 152.69M   220MB/s    in 0.7s    \n",
            "\n",
            "2024-06-13 04:42:30 (220 MB/s) - ‘chrome-linux64.zip’ saved [160106550/160106550]\n",
            "\n",
            "Archive:  chrome-linux64.zip\n",
            "  inflating: chrome-linux64/ABOUT    \n",
            "  inflating: chrome-linux64/MEIPreload/manifest.json  \n",
            "  inflating: chrome-linux64/MEIPreload/preloaded_data.pb  \n",
            "  inflating: chrome-linux64/WidevineCdm/LICENSE  \n",
            "  inflating: chrome-linux64/WidevineCdm/_platform_specific/linux_x64/libwidevinecdm.so  \n",
            "  inflating: chrome-linux64/WidevineCdm/manifest.json  \n",
            "  inflating: chrome-linux64/chrome   \n",
            "  inflating: chrome-linux64/chrome-wrapper  \n",
            "  inflating: chrome-linux64/chrome_100_percent.pak  \n",
            "  inflating: chrome-linux64/chrome_200_percent.pak  \n",
            "  inflating: chrome-linux64/chrome_crashpad_handler  \n",
            "  inflating: chrome-linux64/chrome_sandbox  \n",
            "  inflating: chrome-linux64/icudtl.dat  \n",
            "  inflating: chrome-linux64/libEGL.so  \n",
            "  inflating: chrome-linux64/libGLESv2.so  \n",
            "  inflating: chrome-linux64/libvk_swiftshader.so  \n",
            "  inflating: chrome-linux64/libvulkan.so.1  \n",
            "  inflating: chrome-linux64/locales/af.pak  \n",
            "  inflating: chrome-linux64/locales/am.pak  \n",
            "  inflating: chrome-linux64/locales/ar.pak  \n",
            "  inflating: chrome-linux64/locales/bg.pak  \n",
            "  inflating: chrome-linux64/locales/bn.pak  \n",
            "  inflating: chrome-linux64/locales/ca.pak  \n",
            "  inflating: chrome-linux64/locales/cs.pak  \n",
            "  inflating: chrome-linux64/locales/da.pak  \n",
            "  inflating: chrome-linux64/locales/de.pak  \n",
            "  inflating: chrome-linux64/locales/el.pak  \n",
            "  inflating: chrome-linux64/locales/en-GB.pak  \n",
            "  inflating: chrome-linux64/locales/en-US.pak  \n",
            "  inflating: chrome-linux64/locales/es-419.pak  \n",
            "  inflating: chrome-linux64/locales/es.pak  \n",
            "  inflating: chrome-linux64/locales/et.pak  \n",
            "  inflating: chrome-linux64/locales/fa.pak  \n",
            "  inflating: chrome-linux64/locales/fi.pak  \n",
            "  inflating: chrome-linux64/locales/fil.pak  \n",
            "  inflating: chrome-linux64/locales/fr.pak  \n",
            "  inflating: chrome-linux64/locales/gu.pak  \n",
            "  inflating: chrome-linux64/locales/he.pak  \n",
            "  inflating: chrome-linux64/locales/hi.pak  \n",
            "  inflating: chrome-linux64/locales/hr.pak  \n",
            "  inflating: chrome-linux64/locales/hu.pak  \n",
            "  inflating: chrome-linux64/locales/id.pak  \n",
            "  inflating: chrome-linux64/locales/it.pak  \n",
            "  inflating: chrome-linux64/locales/ja.pak  \n",
            "  inflating: chrome-linux64/locales/kn.pak  \n",
            "  inflating: chrome-linux64/locales/ko.pak  \n",
            "  inflating: chrome-linux64/locales/lt.pak  \n",
            "  inflating: chrome-linux64/locales/lv.pak  \n",
            "  inflating: chrome-linux64/locales/ml.pak  \n",
            "  inflating: chrome-linux64/locales/mr.pak  \n",
            "  inflating: chrome-linux64/locales/ms.pak  \n",
            "  inflating: chrome-linux64/locales/nb.pak  \n",
            "  inflating: chrome-linux64/locales/nl.pak  \n",
            "  inflating: chrome-linux64/locales/pl.pak  \n",
            "  inflating: chrome-linux64/locales/pt-BR.pak  \n",
            "  inflating: chrome-linux64/locales/pt-PT.pak  \n",
            "  inflating: chrome-linux64/locales/ro.pak  \n",
            "  inflating: chrome-linux64/locales/ru.pak  \n",
            "  inflating: chrome-linux64/locales/sk.pak  \n",
            "  inflating: chrome-linux64/locales/sl.pak  \n",
            "  inflating: chrome-linux64/locales/sr.pak  \n",
            "  inflating: chrome-linux64/locales/sv.pak  \n",
            "  inflating: chrome-linux64/locales/sw.pak  \n",
            "  inflating: chrome-linux64/locales/ta.pak  \n",
            "  inflating: chrome-linux64/locales/te.pak  \n",
            "  inflating: chrome-linux64/locales/th.pak  \n",
            "  inflating: chrome-linux64/locales/tr.pak  \n",
            "  inflating: chrome-linux64/locales/uk.pak  \n",
            "  inflating: chrome-linux64/locales/ur.pak  \n",
            "  inflating: chrome-linux64/locales/vi.pak  \n",
            "  inflating: chrome-linux64/locales/zh-CN.pak  \n",
            "  inflating: chrome-linux64/locales/zh-TW.pak  \n",
            " extracting: chrome-linux64/product_logo_48.png  \n",
            "  inflating: chrome-linux64/resources.pak  \n",
            "  inflating: chrome-linux64/v8_context_snapshot.bin  \n",
            "  inflating: chrome-linux64/vk_swiftshader_icd.json  \n",
            "  inflating: chrome-linux64/xdg-mime  \n",
            "  inflating: chrome-linux64/xdg-settings  \n",
            "   creating: chrome-linux64/resources/\n",
            "   creating: chrome-linux64/resources/inspector_overlay/\n",
            "  inflating: chrome-linux64/resources/inspector_overlay/main.js  \n",
            "  inflating: chrome-linux64/resources/inspector_overlay/inspector_overlay_resources.grd  \n",
            "   creating: chrome-linux64/resources/accessibility/\n",
            "  inflating: chrome-linux64/resources/accessibility/reading_mode_gdocs_helper_manifest.json  \n",
            "   creating: chrome-linux64/resources/accessibility/reading_mode_gdocs_helper/\n",
            "  inflating: chrome-linux64/resources/accessibility/reading_mode_gdocs_helper/content.js  \n",
            "  inflating: chrome-linux64/resources/accessibility/reading_mode_gdocs_helper/gdocs_script.js  \n",
            "   creating: chrome-linux64/hyphen-data/\n",
            "  inflating: chrome-linux64/hyphen-data/hyph-hy.hyb  \n",
            "  inflating: chrome-linux64/hyphen-data/hyph-ml.hyb  \n",
            "  inflating: chrome-linux64/hyphen-data/hyph-hu.hyb  \n",
            "  inflating: chrome-linux64/hyphen-data/hyph-en-us.hyb  \n",
            "  inflating: chrome-linux64/hyphen-data/hyph-de-1996.hyb  \n",
            "  inflating: chrome-linux64/hyphen-data/hyph-cy.hyb  \n",
            "  inflating: chrome-linux64/hyphen-data/hyph-es.hyb  \n",
            "  inflating: chrome-linux64/hyphen-data/hyph-uk.hyb  \n",
            "  inflating: chrome-linux64/hyphen-data/hyph-pt.hyb  \n",
            "  inflating: chrome-linux64/hyphen-data/hyph-nl.hyb  \n",
            "  inflating: chrome-linux64/hyphen-data/hyph-de-ch-1901.hyb  \n",
            "  inflating: chrome-linux64/hyphen-data/hyph-hr.hyb  \n",
            "  inflating: chrome-linux64/hyphen-data/hyph-ru.hyb  \n",
            "  inflating: chrome-linux64/hyphen-data/hyph-sk.hyb  \n",
            "  inflating: chrome-linux64/hyphen-data/hyph-lv.hyb  \n",
            "  inflating: chrome-linux64/hyphen-data/hyph-sq.hyb  \n",
            "  inflating: chrome-linux64/hyphen-data/hyph-ka.hyb  \n",
            "  inflating: chrome-linux64/hyphen-data/hyph-de-1901.hyb  \n",
            "  inflating: chrome-linux64/hyphen-data/hyph-as.hyb  \n",
            "  inflating: chrome-linux64/hyphen-data/hyph-it.hyb  \n",
            "  inflating: chrome-linux64/hyphen-data/hyph-mr.hyb  \n",
            "  inflating: chrome-linux64/hyphen-data/hyph-sv.hyb  \n",
            "  inflating: chrome-linux64/hyphen-data/hyph-da.hyb  \n",
            "  inflating: chrome-linux64/hyphen-data/hyph-lt.hyb  \n",
            "  inflating: chrome-linux64/hyphen-data/hyph-be.hyb  \n",
            "  inflating: chrome-linux64/hyphen-data/hyph-en-gb.hyb  \n",
            "  inflating: chrome-linux64/hyphen-data/hyph-und-ethi.hyb  \n",
            "  inflating: chrome-linux64/hyphen-data/hyph-or.hyb  \n",
            "  inflating: chrome-linux64/hyphen-data/hyph-kn.hyb  \n",
            "  inflating: chrome-linux64/hyphen-data/hyph-bg.hyb  \n",
            "  inflating: chrome-linux64/hyphen-data/hyph-cs.hyb  \n",
            "  inflating: chrome-linux64/hyphen-data/hyph-la.hyb  \n",
            "  inflating: chrome-linux64/hyphen-data/hyph-nb.hyb  \n",
            "  inflating: chrome-linux64/hyphen-data/manifest.json  \n",
            "  inflating: chrome-linux64/hyphen-data/hyph-sl.hyb  \n",
            "  inflating: chrome-linux64/hyphen-data/hyph-pa.hyb  \n",
            "  inflating: chrome-linux64/hyphen-data/hyph-nn.hyb  \n",
            "  inflating: chrome-linux64/hyphen-data/hyph-bn.hyb  \n",
            "  inflating: chrome-linux64/hyphen-data/hyph-el.hyb  \n",
            "  inflating: chrome-linux64/hyphen-data/hyph-ga.hyb  \n",
            "  inflating: chrome-linux64/hyphen-data/hyph-tk.hyb  \n",
            "  inflating: chrome-linux64/hyphen-data/hyph-et.hyb  \n",
            "  inflating: chrome-linux64/hyphen-data/hyph-gu.hyb  \n",
            "  inflating: chrome-linux64/hyphen-data/hyph-cu.hyb  \n",
            "  inflating: chrome-linux64/hyphen-data/hyph-ta.hyb  \n",
            "  inflating: chrome-linux64/hyphen-data/hyph-mul-ethi.hyb  \n",
            "  inflating: chrome-linux64/hyphen-data/hyph-fr.hyb  \n",
            "  inflating: chrome-linux64/hyphen-data/hyph-gl.hyb  \n",
            "  inflating: chrome-linux64/hyphen-data/hyph-mn-cyrl.hyb  \n",
            "  inflating: chrome-linux64/hyphen-data/hyph-te.hyb  \n",
            "  inflating: chrome-linux64/hyphen-data/hyph-eu.hyb  \n",
            "  inflating: chrome-linux64/hyphen-data/hyph-af.hyb  \n",
            "  inflating: chrome-linux64/hyphen-data/hyph-hi.hyb  \n",
            "--2024-06-13 04:42:35--  https://storage.googleapis.com/chrome-for-testing-public/126.0.6478.55/linux64/chromedriver-linux64.zip\n",
            "Resolving storage.googleapis.com (storage.googleapis.com)... 74.125.126.207, 74.125.132.207, 74.125.201.207, ...\n",
            "Connecting to storage.googleapis.com (storage.googleapis.com)|74.125.126.207|:443... connected.\n",
            "HTTP request sent, awaiting response... 200 OK\n",
            "Length: 8771987 (8.4M) [application/zip]\n",
            "Saving to: ‘chromedriver-linux64.zip’\n",
            "\n",
            "chromedriver-linux6 100%[===================>]   8.37M  --.-KB/s    in 0.06s   \n",
            "\n",
            "2024-06-13 04:42:35 (142 MB/s) - ‘chromedriver-linux64.zip’ saved [8771987/8771987]\n",
            "\n",
            "Archive:  chromedriver-linux64.zip\n",
            "  inflating: chromedriver-linux64/LICENSE.chromedriver  \n",
            "  inflating: chromedriver-linux64/chromedriver  \n"
          ]
        }
      ],
      "source": [
        "!apt-get update\n",
        "!apt-get install -y wget unzip\n",
        "# Download Chrome\n",
        "!wget -N https://storage.googleapis.com/chrome-for-testing-public/126.0.6478.55/linux64/chrome-linux64.zip\n",
        "!unzip -o chrome-linux64.zip\n",
        "# Download ChromeDriver\n",
        "!wget -N https://storage.googleapis.com/chrome-for-testing-public/126.0.6478.55/linux64/chromedriver-linux64.zip\n",
        "!unzip -o chromedriver-linux64.zip\n",
        "!chmod +x chromedriver-linux64/chromedriver\n",
        "!mv -f chromedriver-linux64/chromedriver /usr/local/bin/chromedriver"
      ]
    },
    {
      "cell_type": "code",
      "execution_count": null,
      "metadata": {
        "colab": {
          "base_uri": "https://localhost:8080/"
        },
        "id": "YGixCbcGF_Aw",
        "outputId": "a4ca7377-b2f2-4de2-f2ee-5479d913270b"
      },
      "outputs": [
        {
          "output_type": "stream",
          "name": "stdout",
          "text": [
            "Drive already mounted at /content/drive; to attempt to forcibly remount, call drive.mount(\"/content/drive\", force_remount=True).\n"
          ]
        }
      ],
      "source": [
        "import os\n",
        "import time\n",
        "import requests\n",
        "import urllib\n",
        "import progressbar\n",
        "from urllib.parse import quote\n",
        "from google.colab import drive\n",
        "import cv2\n",
        "import numpy as np\n",
        "\n",
        "# Mount Google Drive\n",
        "drive.mount('/content/drive')\n",
        "\n",
        "def _create_directories(_directory, _name):\n",
        "    \"\"\"\n",
        "    create directory to save images\n",
        "    :param _directory:\n",
        "    :param _name:\n",
        "    :return:\n",
        "    \"\"\"\n",
        "    name = _name.replace(\" \", \"_\")\n",
        "    try:\n",
        "        if not os.path.exists(_directory):\n",
        "            os.makedirs(_directory)\n",
        "            time.sleep(0.2)\n",
        "            path = name\n",
        "            sub_directory = os.path.join(_directory, path)\n",
        "            if not os.path.exists(sub_directory):\n",
        "                os.makedirs(sub_directory)\n",
        "        else:\n",
        "            path = name\n",
        "            sub_directory = os.path.join(_directory, path)\n",
        "            if not os.path.exists(sub_directory):\n",
        "                os.makedirs(sub_directory)\n",
        "\n",
        "    except OSError as e:\n",
        "        if e.errno != 17:\n",
        "            raise\n",
        "        pass\n",
        "    return\n",
        "\n",
        "def _download_page(url):\n",
        "\n",
        "    try:\n",
        "        headers={}\n",
        "        headers[\n",
        "            'User-Agent']=\"Mozilla/5.0 (X11; Linux x86_64) AppleWebKit/537.36 (KHTML, like Gecko) Chrome/77.0.3865.90 Safari/537.36\"\n",
        "        req = urllib.request.Request(url, headers=headers)\n",
        "        resp = urllib.request.urlopen(req)\n",
        "        respData = str(resp.read())\n",
        "        return respData\n",
        "\n",
        "    except Exception as e:\n",
        "        print(e)\n",
        "        exit(0)\n",
        "\n",
        "def download_and_resize(keywords, limit, directory, resize_width, resize_height):\n",
        "    \"\"\"\n",
        "    Download images from Google, resize them, and save them directly to Google Drive folder.\n",
        "    :param keywords: Keywords to search for.\n",
        "    :param limit: Limit of images to download.\n",
        "    :param directory: Directory in Google Drive to save the images.\n",
        "    :param resize_width: Width for resizing images.\n",
        "    :param resize_height: Height for resizing images.\n",
        "    \"\"\"\n",
        "    keyword_to_search = [str(item).strip() for item in keywords.split(',')]\n",
        "\n",
        "    # Create directory in Google Drive if it doesn't exist\n",
        "    drive_directory = os.path.join('/content/drive/MyDrive', directory)\n",
        "    _create_directories(drive_directory, '')\n",
        "\n",
        "    things = len(keyword_to_search) * limit\n",
        "\n",
        "    bar = progressbar.ProgressBar(maxval=things, \\\n",
        "                                  widgets=[progressbar.Bar('=', '[', ']'), ' ', progressbar.Percentage()])\n",
        "\n",
        "    bar.start()\n",
        "\n",
        "    for keyword in keyword_to_search:\n",
        "        url = 'https://www.google.com/search?q=' + quote(\n",
        "            keyword.encode(\n",
        "                'utf-8')) + '&biw=1536&bih=674&tbm=isch&sxsrf=ACYBGNSXXpS6YmAKUiLKKBs6xWb4uUY5gA:1581168823770&source=lnms&sa=X&ved=0ahUKEwioj8jwiMLnAhW9AhAIHbXTBMMQ_AUI3QUoAQ'\n",
        "        raw_html = _download_page(url)\n",
        "\n",
        "        end_object = -1;\n",
        "        google_image_seen = False;\n",
        "        count = 0\n",
        "        while count < limit:\n",
        "            while (True):\n",
        "                try:\n",
        "                    new_line = raw_html.find('\"https://', end_object + 1)\n",
        "                    end_object = raw_html.find('\"', new_line + 1)\n",
        "\n",
        "                    buffor = raw_html.find('\\\\', new_line + 1, end_object)\n",
        "                    if buffor != -1:\n",
        "                        object_raw = (raw_html[new_line + 1:buffor])\n",
        "                    else:\n",
        "                        object_raw = (raw_html[new_line + 1:end_object])\n",
        "\n",
        "                    if any(extension in object_raw for extension in {'.jpg', '.png', '.ico', '.gif', '.jpeg'}):\n",
        "                        break\n",
        "\n",
        "                except Exception as e:\n",
        "                    break\n",
        "            try:\n",
        "                r = requests.get(object_raw, allow_redirects=True, timeout=1)\n",
        "                if ('html' not in str(r.content)):\n",
        "                    file_extension = '.jpg'  # Assume all images are jpg\n",
        "                    if file_extension == '.png' and not google_image_seen:\n",
        "                        google_image_seen = True\n",
        "                        raise ValueError()\n",
        "                    file_name = f\"{keyword}_{count + 1}{file_extension}\"\n",
        "                    save_path = os.path.join(drive_directory, file_name)\n",
        "\n",
        "                    # Resize the image\n",
        "                    img = cv2.imdecode(np.asarray(bytearray(r.content)), cv2.IMREAD_COLOR)\n",
        "                    resized_img = cv2.resize(img, (resize_width, resize_height))\n",
        "\n",
        "                    # Save resized image to Google Drive\n",
        "                    cv2.imwrite(save_path, resized_img)\n",
        "                    bar.update(bar.currval + 1)\n",
        "                    count += 1\n",
        "                #else:\n",
        "                    #count -= 1\n",
        "            except Exception as e:\n",
        "                pass\n",
        "                #count -= 1\n",
        "\n",
        "    bar.finish()"
      ]
    },
    {
      "cell_type": "code",
      "source": [
        "real_domain_list = [\"dogs\", \"tiger\",\"lion\", \"elephant\",\"cow\",\"insects\",\"butterfly\",\"giraffe\",\"deer\",\"birds\",\"flowers\",\"rabbit\",\"peacock\",\"ox\",\"fish\",\"crocodile\",\"Men\",\"Women\",\"children\"]"
      ],
      "metadata": {
        "id": "sZVPB-Hiab3s"
      },
      "execution_count": null,
      "outputs": []
    },
    {
      "cell_type": "code",
      "source": [
        "fake_domain_list = []\n",
        "for domain in real_domain_list:\n",
        "    fake_domain_list.append(\"ai generated \"+domain)\n",
        "print(len(fake_domain_list))"
      ],
      "metadata": {
        "colab": {
          "base_uri": "https://localhost:8080/"
        },
        "id": "QslF5yqAekLk",
        "outputId": "f4333261-7355-4b40-bdbf-f0e56b19cc1e"
      },
      "execution_count": null,
      "outputs": [
        {
          "output_type": "stream",
          "name": "stdout",
          "text": [
            "19\n"
          ]
        }
      ]
    },
    {
      "cell_type": "code",
      "source": [
        "for domain in fake_domain_list:\n",
        "    print(\"Domian : \"+domain)\n",
        "    download_and_resize(keywords=domain, limit=1000, directory='Project/AI_Image_classifier/Datasets/Fake', resize_width=300, resize_height=300)"
      ],
      "metadata": {
        "colab": {
          "base_uri": "https://localhost:8080/"
        },
        "id": "WVR_vgTK6r56",
        "outputId": "396d9480-6421-46b8-e793-feeb48d505ff"
      },
      "execution_count": null,
      "outputs": [
        {
          "metadata": {
            "tags": null
          },
          "name": "stderr",
          "output_type": "stream",
          "text": [
            "\r[                                                                        ]   0%"
          ]
        },
        {
          "metadata": {
            "tags": null
          },
          "name": "stdout",
          "output_type": "stream",
          "text": [
            "Domian : ai generated dogs\n"
          ]
        },
        {
          "metadata": {
            "tags": null
          },
          "name": "stderr",
          "output_type": "stream",
          "text": [
            "[========================================================================] 100%\n",
            "[                                                                        ]   0%"
          ]
        },
        {
          "metadata": {
            "tags": null
          },
          "name": "stdout",
          "output_type": "stream",
          "text": [
            "Domian : ai generated tiger\n"
          ]
        },
        {
          "metadata": {
            "tags": null
          },
          "name": "stderr",
          "output_type": "stream",
          "text": [
            "[========================================================================] 100%\n",
            "[                                                                        ]   0%"
          ]
        },
        {
          "metadata": {
            "tags": null
          },
          "name": "stdout",
          "output_type": "stream",
          "text": [
            "Domian : ai generated lion\n"
          ]
        },
        {
          "metadata": {
            "tags": null
          },
          "name": "stderr",
          "output_type": "stream",
          "text": [
            "[========================================================================] 100%\n",
            "[                                                                        ]   0%"
          ]
        },
        {
          "metadata": {
            "tags": null
          },
          "name": "stdout",
          "output_type": "stream",
          "text": [
            "Domian : ai generated elephant\n"
          ]
        },
        {
          "metadata": {
            "tags": null
          },
          "name": "stderr",
          "output_type": "stream",
          "text": [
            "[========================================================================] 100%\n",
            "[                                                                        ]   0%"
          ]
        },
        {
          "metadata": {
            "tags": null
          },
          "name": "stdout",
          "output_type": "stream",
          "text": [
            "Domian : ai generated cow\n"
          ]
        },
        {
          "metadata": {
            "tags": null
          },
          "name": "stderr",
          "output_type": "stream",
          "text": [
            "[========================================================================] 100%\n",
            "[                                                                        ]   0%"
          ]
        },
        {
          "metadata": {
            "tags": null
          },
          "name": "stdout",
          "output_type": "stream",
          "text": [
            "Domian : ai generated insects\n"
          ]
        },
        {
          "metadata": {
            "tags": null
          },
          "name": "stderr",
          "output_type": "stream",
          "text": [
            "[========================================================================] 100%\n",
            "[                                                                        ]   0%"
          ]
        },
        {
          "metadata": {
            "tags": null
          },
          "name": "stdout",
          "output_type": "stream",
          "text": [
            "Domian : ai generated butterfly\n"
          ]
        },
        {
          "metadata": {
            "tags": null
          },
          "name": "stderr",
          "output_type": "stream",
          "text": [
            "[========================================================================] 100%\n",
            "[                                                                        ]   0%"
          ]
        },
        {
          "metadata": {
            "tags": null
          },
          "name": "stdout",
          "output_type": "stream",
          "text": [
            "Domian : ai generated giraffe\n"
          ]
        },
        {
          "metadata": {
            "tags": null
          },
          "name": "stderr",
          "output_type": "stream",
          "text": [
            "[========================================================================] 100%\n",
            "[                                                                        ]   0%"
          ]
        },
        {
          "metadata": {
            "tags": null
          },
          "name": "stdout",
          "output_type": "stream",
          "text": [
            "Domian : ai generated deer\n"
          ]
        },
        {
          "metadata": {
            "tags": null
          },
          "name": "stderr",
          "output_type": "stream",
          "text": [
            "[========================================================================] 100%\n",
            "[                                                                        ]   0%"
          ]
        },
        {
          "metadata": {
            "tags": null
          },
          "name": "stdout",
          "output_type": "stream",
          "text": [
            "Domian : ai generated birds\n"
          ]
        },
        {
          "metadata": {
            "tags": null
          },
          "name": "stderr",
          "output_type": "stream",
          "text": [
            "[========================================================================] 100%\n",
            "[                                                                        ]   0%"
          ]
        },
        {
          "metadata": {
            "tags": null
          },
          "name": "stdout",
          "output_type": "stream",
          "text": [
            "Domian : ai generated flowers\n"
          ]
        },
        {
          "metadata": {
            "tags": null
          },
          "name": "stderr",
          "output_type": "stream",
          "text": [
            "[========================================================================] 100%\n",
            "[                                                                        ]   0%"
          ]
        },
        {
          "metadata": {
            "tags": null
          },
          "name": "stdout",
          "output_type": "stream",
          "text": [
            "Domian : ai generated rabbit\n"
          ]
        },
        {
          "metadata": {
            "tags": null
          },
          "name": "stderr",
          "output_type": "stream",
          "text": [
            "[========================================================================] 100%\n",
            "[                                                                        ]   0%"
          ]
        },
        {
          "metadata": {
            "tags": null
          },
          "name": "stdout",
          "output_type": "stream",
          "text": [
            "Domian : ai generated peacock\n"
          ]
        },
        {
          "metadata": {
            "tags": null
          },
          "name": "stderr",
          "output_type": "stream",
          "text": [
            "[========================================================================] 100%\n",
            "[                                                                        ]   0%"
          ]
        },
        {
          "metadata": {
            "tags": null
          },
          "name": "stdout",
          "output_type": "stream",
          "text": [
            "Domian : ai generated ox\n"
          ]
        },
        {
          "metadata": {
            "tags": null
          },
          "name": "stderr",
          "output_type": "stream",
          "text": [
            "[========================================================================] 100%\n",
            "[                                                                        ]   0%"
          ]
        },
        {
          "metadata": {
            "tags": null
          },
          "name": "stdout",
          "output_type": "stream",
          "text": [
            "Domian : ai generated fish\n"
          ]
        },
        {
          "metadata": {
            "tags": null
          },
          "name": "stderr",
          "output_type": "stream",
          "text": [
            "[========================================================================] 100%\n",
            "[                                                                        ]   0%"
          ]
        },
        {
          "metadata": {
            "tags": null
          },
          "name": "stdout",
          "output_type": "stream",
          "text": [
            "Domian : ai generated crocodile\n"
          ]
        },
        {
          "metadata": {
            "tags": null
          },
          "name": "stderr",
          "output_type": "stream",
          "text": [
            "[========================================================================] 100%\n",
            "[                                                                        ]   0%"
          ]
        },
        {
          "metadata": {
            "tags": null
          },
          "name": "stdout",
          "output_type": "stream",
          "text": [
            "Domian : ai generated Men\n"
          ]
        },
        {
          "metadata": {
            "tags": null
          },
          "name": "stderr",
          "output_type": "stream",
          "text": [
            "[========================================================================] 100%\n",
            "[                                                                        ]   0%"
          ]
        },
        {
          "metadata": {
            "tags": null
          },
          "name": "stdout",
          "output_type": "stream",
          "text": [
            "Domian : ai generated Women\n"
          ]
        },
        {
          "metadata": {
            "tags": null
          },
          "name": "stderr",
          "output_type": "stream",
          "text": [
            "[========================================================================] 100%\n",
            "[                                                                        ]   0%"
          ]
        },
        {
          "metadata": {
            "tags": null
          },
          "name": "stdout",
          "output_type": "stream",
          "text": [
            "Domian : ai generated children\n"
          ]
        },
        {
          "output_type": "stream",
          "name": "stderr",
          "text": [
            "[===================================================================     ]  93%"
          ]
        }
      ]
    },
    {
      "cell_type": "code",
      "source": [
        "for domain in real_domain_list:\n",
        "    print(\"Domain : \"+domain)\n",
        "    download_and_resize(keywords=domain, limit=1000, directory='Project/AI_Image_classifier/Datasets/Real', resize_width=300, resize_height=300)\n"
      ],
      "metadata": {
        "colab": {
          "base_uri": "https://localhost:8080/"
        },
        "id": "l4qx_P5zePPq",
        "outputId": "b9d7e244-8da0-413d-ddba-e8784da02124"
      },
      "execution_count": null,
      "outputs": [
        {
          "metadata": {
            "tags": null
          },
          "name": "stderr",
          "output_type": "stream",
          "text": [
            "\r[                                                                        ]   0%"
          ]
        },
        {
          "metadata": {
            "tags": null
          },
          "name": "stdout",
          "output_type": "stream",
          "text": [
            "Domain : dogs\n"
          ]
        },
        {
          "metadata": {
            "tags": null
          },
          "name": "stderr",
          "output_type": "stream",
          "text": [
            "[========================================================================] 100%\n",
            "[                                                                        ]   0%"
          ]
        },
        {
          "metadata": {
            "tags": null
          },
          "name": "stdout",
          "output_type": "stream",
          "text": [
            "Domain : tiger\n"
          ]
        },
        {
          "metadata": {
            "tags": null
          },
          "name": "stderr",
          "output_type": "stream",
          "text": [
            "[========================================================================] 100%\n",
            "[                                                                        ]   0%"
          ]
        },
        {
          "metadata": {
            "tags": null
          },
          "name": "stdout",
          "output_type": "stream",
          "text": [
            "Domain : lion\n"
          ]
        },
        {
          "metadata": {
            "tags": null
          },
          "name": "stderr",
          "output_type": "stream",
          "text": [
            "[========================================================================] 100%\n",
            "[                                                                        ]   0%"
          ]
        },
        {
          "metadata": {
            "tags": null
          },
          "name": "stdout",
          "output_type": "stream",
          "text": [
            "Domain : elephant\n"
          ]
        },
        {
          "metadata": {
            "tags": null
          },
          "name": "stderr",
          "output_type": "stream",
          "text": [
            "[========================================================================] 100%\n",
            "[                                                                        ]   0%"
          ]
        },
        {
          "metadata": {
            "tags": null
          },
          "name": "stdout",
          "output_type": "stream",
          "text": [
            "Domain : cow\n"
          ]
        },
        {
          "metadata": {
            "tags": null
          },
          "name": "stderr",
          "output_type": "stream",
          "text": [
            "[========================================================================] 100%\n",
            "[                                                                        ]   0%"
          ]
        },
        {
          "metadata": {
            "tags": null
          },
          "name": "stdout",
          "output_type": "stream",
          "text": [
            "Domain : insects\n"
          ]
        },
        {
          "metadata": {
            "tags": null
          },
          "name": "stderr",
          "output_type": "stream",
          "text": [
            "[========================================================================] 100%\n",
            "[                                                                        ]   0%"
          ]
        },
        {
          "metadata": {
            "tags": null
          },
          "name": "stdout",
          "output_type": "stream",
          "text": [
            "Domain : butterfly\n"
          ]
        },
        {
          "metadata": {
            "tags": null
          },
          "name": "stderr",
          "output_type": "stream",
          "text": [
            "[========================================================================] 100%\n",
            "[                                                                        ]   0%"
          ]
        },
        {
          "metadata": {
            "tags": null
          },
          "name": "stdout",
          "output_type": "stream",
          "text": [
            "Domain : giraffe\n"
          ]
        },
        {
          "metadata": {
            "tags": null
          },
          "name": "stderr",
          "output_type": "stream",
          "text": [
            "[========================================================================] 100%\n",
            "[                                                                        ]   0%"
          ]
        },
        {
          "metadata": {
            "tags": null
          },
          "name": "stdout",
          "output_type": "stream",
          "text": [
            "Domain : deer\n"
          ]
        },
        {
          "metadata": {
            "tags": null
          },
          "name": "stderr",
          "output_type": "stream",
          "text": [
            "[========================================================================] 100%\n",
            "[                                                                        ]   0%"
          ]
        },
        {
          "metadata": {
            "tags": null
          },
          "name": "stdout",
          "output_type": "stream",
          "text": [
            "Domain : birds\n"
          ]
        },
        {
          "metadata": {
            "tags": null
          },
          "name": "stderr",
          "output_type": "stream",
          "text": [
            "[========================================================================] 100%\n",
            "[                                                                        ]   0%"
          ]
        },
        {
          "metadata": {
            "tags": null
          },
          "name": "stdout",
          "output_type": "stream",
          "text": [
            "Domain : flowers\n"
          ]
        },
        {
          "output_type": "stream",
          "name": "stderr",
          "text": [
            "[========================================================================] 100%\n",
            "[                                                                        ]   0%"
          ]
        },
        {
          "output_type": "stream",
          "name": "stdout",
          "text": [
            "Domain : rabbit\n"
          ]
        },
        {
          "output_type": "stream",
          "name": "stderr",
          "text": [
            "[========================================================================] 100%\n",
            "[                                                                        ]   0%"
          ]
        },
        {
          "output_type": "stream",
          "name": "stdout",
          "text": [
            "Domain : peacock\n"
          ]
        },
        {
          "output_type": "stream",
          "name": "stderr",
          "text": [
            "[========================================================================] 100%\n",
            "[                                                                        ]   0%"
          ]
        },
        {
          "output_type": "stream",
          "name": "stdout",
          "text": [
            "Domain : ox\n"
          ]
        },
        {
          "output_type": "stream",
          "name": "stderr",
          "text": [
            "[========================================================================] 100%\n",
            "[                                                                        ]   0%"
          ]
        },
        {
          "output_type": "stream",
          "name": "stdout",
          "text": [
            "Domain : fish\n"
          ]
        },
        {
          "output_type": "stream",
          "name": "stderr",
          "text": [
            "[========================================================================] 100%\n",
            "[                                                                        ]   0%"
          ]
        },
        {
          "output_type": "stream",
          "name": "stdout",
          "text": [
            "Domain : crocodile\n"
          ]
        },
        {
          "output_type": "stream",
          "name": "stderr",
          "text": [
            "[========================================================================] 100%\n",
            "[                                                                        ]   0%"
          ]
        },
        {
          "output_type": "stream",
          "name": "stdout",
          "text": [
            "Domain : Men\n"
          ]
        },
        {
          "output_type": "stream",
          "name": "stderr",
          "text": [
            "[========================================================================] 100%\n",
            "[                                                                        ]   0%"
          ]
        },
        {
          "output_type": "stream",
          "name": "stdout",
          "text": [
            "Domain : Women\n"
          ]
        },
        {
          "output_type": "stream",
          "name": "stderr",
          "text": [
            "[========================================================================] 100%\n",
            "[                                                                        ]   0%"
          ]
        },
        {
          "output_type": "stream",
          "name": "stdout",
          "text": [
            "Domain : children\n"
          ]
        },
        {
          "output_type": "stream",
          "name": "stderr",
          "text": [
            "[========================================================================] 100%\n"
          ]
        }
      ]
    },
    {
      "cell_type": "code",
      "source": [
        "real_domain_list_2 = [\"horse\",\"kangaroo\",\"giraffe\",\"camel\",\"leopard\",\"penguins\",\"polar bear\",\"panda\",\"bear\",\"rabbit\",\"goat\",\"duck\",\"Chicken\",\"parrot\",\"pig\",\"turtle\",\"rat\",\"monkey\",\"snake\",\"zebra\",\"donkey\",\"baby\",\"ostriches\",\"frog\",\"deer\",\"buffalo\",\"fox\",\"swan\",\"sheep\",\"Squirrel\"]"
      ],
      "metadata": {
        "id": "V5Xc18d1VXZR"
      },
      "execution_count": null,
      "outputs": []
    },
    {
      "cell_type": "code",
      "source": [
        "print(len(real_domain_list_2))"
      ],
      "metadata": {
        "colab": {
          "base_uri": "https://localhost:8080/"
        },
        "id": "d83erhGPajWC",
        "outputId": "299ece08-da5f-4e46-eb3a-cf631c3f22fe"
      },
      "execution_count": null,
      "outputs": [
        {
          "output_type": "stream",
          "name": "stdout",
          "text": [
            "30\n"
          ]
        }
      ]
    },
    {
      "cell_type": "code",
      "source": [
        "for domain in real_domain_list_2:\n",
        "    print(\"Domain : \"+domain)\n",
        "    download_and_resize(keywords=domain, limit=1000, directory='Project/AI_Image_classifier/Datasets/Real', resize_width=300, resize_height=300)\n"
      ],
      "metadata": {
        "colab": {
          "base_uri": "https://localhost:8080/"
        },
        "id": "uRVexU5VbCxo",
        "outputId": "d0512e2a-1408-484b-b199-ca9d9668ac04"
      },
      "execution_count": null,
      "outputs": [
        {
          "metadata": {
            "tags": null
          },
          "name": "stderr",
          "output_type": "stream",
          "text": [
            "\r[                                                                        ]   0%"
          ]
        },
        {
          "metadata": {
            "tags": null
          },
          "name": "stdout",
          "output_type": "stream",
          "text": [
            "Domain : horse\n"
          ]
        },
        {
          "metadata": {
            "tags": null
          },
          "name": "stderr",
          "output_type": "stream",
          "text": [
            "[========================================================================] 100%\n",
            "[                                                                        ]   0%"
          ]
        },
        {
          "metadata": {
            "tags": null
          },
          "name": "stdout",
          "output_type": "stream",
          "text": [
            "Domain : kangaroo\n"
          ]
        },
        {
          "metadata": {
            "tags": null
          },
          "name": "stderr",
          "output_type": "stream",
          "text": [
            "[========================================================================] 100%\n",
            "[                                                                        ]   0%"
          ]
        },
        {
          "metadata": {
            "tags": null
          },
          "name": "stdout",
          "output_type": "stream",
          "text": [
            "Domain : giraffe\n"
          ]
        },
        {
          "metadata": {
            "tags": null
          },
          "name": "stderr",
          "output_type": "stream",
          "text": [
            "[========================================================================] 100%\n",
            "[                                                                        ]   0%"
          ]
        },
        {
          "metadata": {
            "tags": null
          },
          "name": "stdout",
          "output_type": "stream",
          "text": [
            "Domain : camel\n"
          ]
        },
        {
          "metadata": {
            "tags": null
          },
          "name": "stderr",
          "output_type": "stream",
          "text": [
            "[========================================================================] 100%\n",
            "[                                                                        ]   0%"
          ]
        },
        {
          "metadata": {
            "tags": null
          },
          "name": "stdout",
          "output_type": "stream",
          "text": [
            "Domain : leopard\n"
          ]
        },
        {
          "metadata": {
            "tags": null
          },
          "name": "stderr",
          "output_type": "stream",
          "text": [
            "[========================================================================] 100%\n",
            "[                                                                        ]   0%"
          ]
        },
        {
          "metadata": {
            "tags": null
          },
          "name": "stdout",
          "output_type": "stream",
          "text": [
            "Domain : penguins\n"
          ]
        },
        {
          "metadata": {
            "tags": null
          },
          "name": "stderr",
          "output_type": "stream",
          "text": [
            "[========================================================================] 100%\n",
            "[                                                                        ]   0%"
          ]
        },
        {
          "metadata": {
            "tags": null
          },
          "name": "stdout",
          "output_type": "stream",
          "text": [
            "Domain : polar bear\n"
          ]
        },
        {
          "metadata": {
            "tags": null
          },
          "name": "stderr",
          "output_type": "stream",
          "text": [
            "[========================================================================] 100%\n",
            "[                                                                        ]   0%"
          ]
        },
        {
          "metadata": {
            "tags": null
          },
          "name": "stdout",
          "output_type": "stream",
          "text": [
            "Domain : panda\n"
          ]
        },
        {
          "metadata": {
            "tags": null
          },
          "name": "stderr",
          "output_type": "stream",
          "text": [
            "[========================================================================] 100%\n",
            "[                                                                        ]   0%"
          ]
        },
        {
          "metadata": {
            "tags": null
          },
          "name": "stdout",
          "output_type": "stream",
          "text": [
            "Domain : bear\n"
          ]
        },
        {
          "metadata": {
            "tags": null
          },
          "name": "stderr",
          "output_type": "stream",
          "text": [
            "[========================================================================] 100%\n",
            "[                                                                        ]   0%"
          ]
        },
        {
          "metadata": {
            "tags": null
          },
          "name": "stdout",
          "output_type": "stream",
          "text": [
            "Domain : rabbit\n"
          ]
        },
        {
          "metadata": {
            "tags": null
          },
          "name": "stderr",
          "output_type": "stream",
          "text": [
            "[========================================================================] 100%\n",
            "[                                                                        ]   0%"
          ]
        },
        {
          "metadata": {
            "tags": null
          },
          "name": "stdout",
          "output_type": "stream",
          "text": [
            "Domain : goat\n"
          ]
        },
        {
          "metadata": {
            "tags": null
          },
          "name": "stderr",
          "output_type": "stream",
          "text": [
            "[========================================================================] 100%\n",
            "[                                                                        ]   0%"
          ]
        },
        {
          "metadata": {
            "tags": null
          },
          "name": "stdout",
          "output_type": "stream",
          "text": [
            "Domain : duck\n"
          ]
        },
        {
          "metadata": {
            "tags": null
          },
          "name": "stderr",
          "output_type": "stream",
          "text": [
            "[========================================================================] 100%\n",
            "[                                                                        ]   0%"
          ]
        },
        {
          "metadata": {
            "tags": null
          },
          "name": "stdout",
          "output_type": "stream",
          "text": [
            "Domain : Chicken\n"
          ]
        },
        {
          "metadata": {
            "tags": null
          },
          "name": "stderr",
          "output_type": "stream",
          "text": [
            "[========================================================================] 100%\n",
            "[                                                                        ]   0%"
          ]
        },
        {
          "metadata": {
            "tags": null
          },
          "name": "stdout",
          "output_type": "stream",
          "text": [
            "Domain : parrot\n"
          ]
        },
        {
          "output_type": "stream",
          "name": "stderr",
          "text": [
            "[========================================================================] 100%\n",
            "[                                                                        ]   0%"
          ]
        },
        {
          "output_type": "stream",
          "name": "stdout",
          "text": [
            "Domain : pig\n"
          ]
        },
        {
          "output_type": "stream",
          "name": "stderr",
          "text": [
            "[========================================================================] 100%\n",
            "[                                                                        ]   0%"
          ]
        },
        {
          "output_type": "stream",
          "name": "stdout",
          "text": [
            "Domain : turtle\n"
          ]
        },
        {
          "output_type": "stream",
          "name": "stderr",
          "text": [
            "[========================================================================] 100%\n",
            "[                                                                        ]   0%"
          ]
        },
        {
          "output_type": "stream",
          "name": "stdout",
          "text": [
            "Domain : rat\n"
          ]
        },
        {
          "output_type": "stream",
          "name": "stderr",
          "text": [
            "[========================================================================] 100%\n",
            "[                                                                        ]   0%"
          ]
        },
        {
          "output_type": "stream",
          "name": "stdout",
          "text": [
            "Domain : monkey\n"
          ]
        },
        {
          "output_type": "stream",
          "name": "stderr",
          "text": [
            "[========================================================================] 100%\n",
            "[                                                                        ]   0%"
          ]
        },
        {
          "output_type": "stream",
          "name": "stdout",
          "text": [
            "Domain : snake\n"
          ]
        },
        {
          "output_type": "stream",
          "name": "stderr",
          "text": [
            "[========================================================================] 100%\n",
            "[                                                                        ]   0%"
          ]
        },
        {
          "output_type": "stream",
          "name": "stdout",
          "text": [
            "Domain : zebra\n"
          ]
        },
        {
          "output_type": "stream",
          "name": "stderr",
          "text": [
            "[========================================================================] 100%\n",
            "[                                                                        ]   0%"
          ]
        },
        {
          "output_type": "stream",
          "name": "stdout",
          "text": [
            "Domain : donkey\n"
          ]
        },
        {
          "output_type": "stream",
          "name": "stderr",
          "text": [
            "[========================================================================] 100%\n",
            "[                                                                        ]   0%"
          ]
        },
        {
          "output_type": "stream",
          "name": "stdout",
          "text": [
            "Domain : baby\n"
          ]
        },
        {
          "output_type": "stream",
          "name": "stderr",
          "text": [
            "[========================================================================] 100%\n",
            "[                                                                        ]   0%"
          ]
        },
        {
          "output_type": "stream",
          "name": "stdout",
          "text": [
            "Domain : ostriches\n"
          ]
        },
        {
          "output_type": "stream",
          "name": "stderr",
          "text": [
            "[========================================================================] 100%\n",
            "[                                                                        ]   0%"
          ]
        },
        {
          "output_type": "stream",
          "name": "stdout",
          "text": [
            "Domain : frog\n"
          ]
        },
        {
          "output_type": "stream",
          "name": "stderr",
          "text": [
            "[========================================================================] 100%\n",
            "[                                                                        ]   0%"
          ]
        },
        {
          "output_type": "stream",
          "name": "stdout",
          "text": [
            "Domain : deer\n"
          ]
        },
        {
          "output_type": "stream",
          "name": "stderr",
          "text": [
            "[========================================================================] 100%\n",
            "[                                                                        ]   0%"
          ]
        },
        {
          "output_type": "stream",
          "name": "stdout",
          "text": [
            "Domain : buffalo\n"
          ]
        },
        {
          "output_type": "stream",
          "name": "stderr",
          "text": [
            "[========================================================================] 100%\n",
            "[                                                                        ]   0%"
          ]
        },
        {
          "output_type": "stream",
          "name": "stdout",
          "text": [
            "Domain : fox\n"
          ]
        },
        {
          "output_type": "stream",
          "name": "stderr",
          "text": [
            "[========================================================================] 100%\n",
            "[                                                                        ]   0%"
          ]
        },
        {
          "output_type": "stream",
          "name": "stdout",
          "text": [
            "Domain : swan\n"
          ]
        },
        {
          "output_type": "stream",
          "name": "stderr",
          "text": [
            "[========================================================================] 100%\n",
            "[                                                                        ]   0%"
          ]
        },
        {
          "output_type": "stream",
          "name": "stdout",
          "text": [
            "Domain : sheep\n"
          ]
        },
        {
          "output_type": "stream",
          "name": "stderr",
          "text": [
            "[========================================================================] 100%\n",
            "[                                                                        ]   0%"
          ]
        },
        {
          "output_type": "stream",
          "name": "stdout",
          "text": [
            "Domain : Squirrel\n"
          ]
        },
        {
          "output_type": "stream",
          "name": "stderr",
          "text": [
            "[========================================================================] 100%\n"
          ]
        }
      ]
    },
    {
      "cell_type": "code",
      "source": [
        "fake_domain_list_2 = []\n",
        "for domain in real_domain_list_2:\n",
        "    fake_domain_list_2.append(\"ai generated \"+domain)\n",
        "print(len(fake_domain_list_2))"
      ],
      "metadata": {
        "colab": {
          "base_uri": "https://localhost:8080/"
        },
        "id": "AV11UEpXbH1Z",
        "outputId": "447f0eb8-0f32-4cf2-8842-64a275c674a7"
      },
      "execution_count": null,
      "outputs": [
        {
          "output_type": "stream",
          "name": "stdout",
          "text": [
            "30\n"
          ]
        }
      ]
    },
    {
      "cell_type": "code",
      "source": [
        "for domain in fake_domain_list_2:\n",
        "    print(\"Domian : \"+domain)\n",
        "    download_and_resize(keywords=domain, limit=1000, directory='Project/AI_Image_classifier/Datasets/Fake', resize_width=300, resize_height=300)"
      ],
      "metadata": {
        "colab": {
          "base_uri": "https://localhost:8080/"
        },
        "id": "WHVci7L-bLEg",
        "outputId": "d96ed294-d3a4-46ce-9140-c6842b453e38"
      },
      "execution_count": null,
      "outputs": [
        {
          "metadata": {
            "tags": null
          },
          "name": "stderr",
          "output_type": "stream",
          "text": [
            "\r[                                                                        ]   0%"
          ]
        },
        {
          "metadata": {
            "tags": null
          },
          "name": "stdout",
          "output_type": "stream",
          "text": [
            "Domian : ai generated horse\n"
          ]
        },
        {
          "metadata": {
            "tags": null
          },
          "name": "stderr",
          "output_type": "stream",
          "text": [
            "[========================================================================] 100%\n",
            "[                                                                        ]   0%"
          ]
        },
        {
          "metadata": {
            "tags": null
          },
          "name": "stdout",
          "output_type": "stream",
          "text": [
            "Domian : ai generated kangaroo\n"
          ]
        },
        {
          "metadata": {
            "tags": null
          },
          "name": "stderr",
          "output_type": "stream",
          "text": [
            "[========================================================================] 100%\n",
            "[                                                                        ]   0%"
          ]
        },
        {
          "metadata": {
            "tags": null
          },
          "name": "stdout",
          "output_type": "stream",
          "text": [
            "Domian : ai generated giraffe\n"
          ]
        },
        {
          "metadata": {
            "tags": null
          },
          "name": "stderr",
          "output_type": "stream",
          "text": [
            "[========================================================================] 100%\n",
            "[                                                                        ]   0%"
          ]
        },
        {
          "metadata": {
            "tags": null
          },
          "name": "stdout",
          "output_type": "stream",
          "text": [
            "Domian : ai generated camel\n"
          ]
        },
        {
          "metadata": {
            "tags": null
          },
          "name": "stderr",
          "output_type": "stream",
          "text": [
            "[========================================================================] 100%\n",
            "[                                                                        ]   0%"
          ]
        },
        {
          "metadata": {
            "tags": null
          },
          "name": "stdout",
          "output_type": "stream",
          "text": [
            "Domian : ai generated leopard\n"
          ]
        },
        {
          "metadata": {
            "tags": null
          },
          "name": "stderr",
          "output_type": "stream",
          "text": [
            "[========================================================================] 100%\n",
            "[                                                                        ]   0%"
          ]
        },
        {
          "metadata": {
            "tags": null
          },
          "name": "stdout",
          "output_type": "stream",
          "text": [
            "Domian : ai generated penguins\n"
          ]
        },
        {
          "metadata": {
            "tags": null
          },
          "name": "stderr",
          "output_type": "stream",
          "text": [
            "[========================================================================] 100%\n",
            "[                                                                        ]   0%"
          ]
        },
        {
          "metadata": {
            "tags": null
          },
          "name": "stdout",
          "output_type": "stream",
          "text": [
            "Domian : ai generated polar bear\n"
          ]
        },
        {
          "metadata": {
            "tags": null
          },
          "name": "stderr",
          "output_type": "stream",
          "text": [
            "[========================================================================] 100%\n",
            "[                                                                        ]   0%"
          ]
        },
        {
          "metadata": {
            "tags": null
          },
          "name": "stdout",
          "output_type": "stream",
          "text": [
            "Domian : ai generated panda\n"
          ]
        },
        {
          "metadata": {
            "tags": null
          },
          "name": "stderr",
          "output_type": "stream",
          "text": [
            "[========================================================================] 100%\n",
            "[                                                                        ]   0%"
          ]
        },
        {
          "metadata": {
            "tags": null
          },
          "name": "stdout",
          "output_type": "stream",
          "text": [
            "Domian : ai generated bear\n"
          ]
        },
        {
          "metadata": {
            "tags": null
          },
          "name": "stderr",
          "output_type": "stream",
          "text": [
            "[========================================================================] 100%\n",
            "[                                                                        ]   0%"
          ]
        },
        {
          "metadata": {
            "tags": null
          },
          "name": "stdout",
          "output_type": "stream",
          "text": [
            "Domian : ai generated rabbit\n"
          ]
        },
        {
          "metadata": {
            "tags": null
          },
          "name": "stderr",
          "output_type": "stream",
          "text": [
            "[========================================================================] 100%\n",
            "[                                                                        ]   0%"
          ]
        },
        {
          "metadata": {
            "tags": null
          },
          "name": "stdout",
          "output_type": "stream",
          "text": [
            "Domian : ai generated goat\n"
          ]
        },
        {
          "metadata": {
            "tags": null
          },
          "name": "stderr",
          "output_type": "stream",
          "text": [
            "[========================================================================] 100%\n",
            "[                                                                        ]   0%"
          ]
        },
        {
          "metadata": {
            "tags": null
          },
          "name": "stdout",
          "output_type": "stream",
          "text": [
            "Domian : ai generated duck\n"
          ]
        },
        {
          "metadata": {
            "tags": null
          },
          "name": "stderr",
          "output_type": "stream",
          "text": [
            "[========================================================================] 100%\n",
            "[                                                                        ]   0%"
          ]
        },
        {
          "metadata": {
            "tags": null
          },
          "name": "stdout",
          "output_type": "stream",
          "text": [
            "Domian : ai generated Chicken\n"
          ]
        },
        {
          "metadata": {
            "tags": null
          },
          "name": "stderr",
          "output_type": "stream",
          "text": [
            "[========================================================================] 100%\n",
            "[                                                                        ]   0%"
          ]
        },
        {
          "metadata": {
            "tags": null
          },
          "name": "stdout",
          "output_type": "stream",
          "text": [
            "Domian : ai generated parrot\n"
          ]
        },
        {
          "metadata": {
            "tags": null
          },
          "name": "stderr",
          "output_type": "stream",
          "text": [
            "[========================================================================] 100%\n",
            "[                                                                        ]   0%"
          ]
        },
        {
          "metadata": {
            "tags": null
          },
          "name": "stdout",
          "output_type": "stream",
          "text": [
            "Domian : ai generated pig\n"
          ]
        },
        {
          "metadata": {
            "tags": null
          },
          "name": "stderr",
          "output_type": "stream",
          "text": [
            "[========================================================================] 100%\n",
            "[                                                                        ]   0%"
          ]
        },
        {
          "metadata": {
            "tags": null
          },
          "name": "stdout",
          "output_type": "stream",
          "text": [
            "Domian : ai generated turtle\n"
          ]
        },
        {
          "metadata": {
            "tags": null
          },
          "name": "stderr",
          "output_type": "stream",
          "text": [
            "[========================================================================] 100%\n",
            "[                                                                        ]   0%"
          ]
        },
        {
          "metadata": {
            "tags": null
          },
          "name": "stdout",
          "output_type": "stream",
          "text": [
            "Domian : ai generated rat\n"
          ]
        },
        {
          "metadata": {
            "tags": null
          },
          "name": "stderr",
          "output_type": "stream",
          "text": [
            "[========================================================================] 100%\n",
            "[                                                                        ]   0%"
          ]
        },
        {
          "metadata": {
            "tags": null
          },
          "name": "stdout",
          "output_type": "stream",
          "text": [
            "Domian : ai generated monkey\n"
          ]
        },
        {
          "metadata": {
            "tags": null
          },
          "name": "stderr",
          "output_type": "stream",
          "text": [
            "[========================================================================] 100%\n",
            "[                                                                        ]   0%"
          ]
        },
        {
          "metadata": {
            "tags": null
          },
          "name": "stdout",
          "output_type": "stream",
          "text": [
            "Domian : ai generated snake\n"
          ]
        },
        {
          "metadata": {
            "tags": null
          },
          "name": "stderr",
          "output_type": "stream",
          "text": [
            "[========================================================================] 100%\n",
            "[                                                                        ]   0%"
          ]
        },
        {
          "metadata": {
            "tags": null
          },
          "name": "stdout",
          "output_type": "stream",
          "text": [
            "Domian : ai generated zebra\n"
          ]
        },
        {
          "metadata": {
            "tags": null
          },
          "name": "stderr",
          "output_type": "stream",
          "text": [
            "[========================================================================] 100%\n",
            "[                                                                        ]   0%"
          ]
        },
        {
          "metadata": {
            "tags": null
          },
          "name": "stdout",
          "output_type": "stream",
          "text": [
            "Domian : ai generated donkey\n"
          ]
        },
        {
          "metadata": {
            "tags": null
          },
          "name": "stderr",
          "output_type": "stream",
          "text": [
            "[========================================================================] 100%\n",
            "[                                                                        ]   0%"
          ]
        },
        {
          "metadata": {
            "tags": null
          },
          "name": "stdout",
          "output_type": "stream",
          "text": [
            "Domian : ai generated baby\n"
          ]
        },
        {
          "metadata": {
            "tags": null
          },
          "name": "stderr",
          "output_type": "stream",
          "text": [
            "[========================================================================] 100%\n",
            "[                                                                        ]   0%"
          ]
        },
        {
          "metadata": {
            "tags": null
          },
          "name": "stdout",
          "output_type": "stream",
          "text": [
            "Domian : ai generated ostriches\n"
          ]
        },
        {
          "metadata": {
            "tags": null
          },
          "name": "stderr",
          "output_type": "stream",
          "text": [
            "[========================================================================] 100%\n",
            "[                                                                        ]   0%"
          ]
        },
        {
          "metadata": {
            "tags": null
          },
          "name": "stdout",
          "output_type": "stream",
          "text": [
            "Domian : ai generated frog\n"
          ]
        },
        {
          "metadata": {
            "tags": null
          },
          "name": "stderr",
          "output_type": "stream",
          "text": [
            "[========================================================================] 100%\n",
            "[                                                                        ]   0%"
          ]
        },
        {
          "metadata": {
            "tags": null
          },
          "name": "stdout",
          "output_type": "stream",
          "text": [
            "Domian : ai generated deer\n"
          ]
        },
        {
          "metadata": {
            "tags": null
          },
          "name": "stderr",
          "output_type": "stream",
          "text": [
            "[========================================================================] 100%\n",
            "[                                                                        ]   0%"
          ]
        },
        {
          "metadata": {
            "tags": null
          },
          "name": "stdout",
          "output_type": "stream",
          "text": [
            "Domian : ai generated buffalo\n"
          ]
        },
        {
          "metadata": {
            "tags": null
          },
          "name": "stderr",
          "output_type": "stream",
          "text": [
            "[========================================================================] 100%\n",
            "[                                                                        ]   0%"
          ]
        },
        {
          "metadata": {
            "tags": null
          },
          "name": "stdout",
          "output_type": "stream",
          "text": [
            "Domian : ai generated fox\n"
          ]
        },
        {
          "metadata": {
            "tags": null
          },
          "name": "stderr",
          "output_type": "stream",
          "text": [
            "[========================================================================] 100%\n",
            "[                                                                        ]   0%"
          ]
        },
        {
          "metadata": {
            "tags": null
          },
          "name": "stdout",
          "output_type": "stream",
          "text": [
            "Domian : ai generated swan\n"
          ]
        },
        {
          "metadata": {
            "tags": null
          },
          "name": "stderr",
          "output_type": "stream",
          "text": [
            "[========================================================================] 100%\n",
            "[                                                                        ]   0%"
          ]
        },
        {
          "metadata": {
            "tags": null
          },
          "name": "stdout",
          "output_type": "stream",
          "text": [
            "Domian : ai generated sheep\n"
          ]
        },
        {
          "output_type": "stream",
          "name": "stderr",
          "text": [
            "[========================================================================] 100%\n",
            "[                                                                        ]   0%"
          ]
        },
        {
          "output_type": "stream",
          "name": "stdout",
          "text": [
            "Domian : ai generated Squirrel\n"
          ]
        },
        {
          "output_type": "stream",
          "name": "stderr",
          "text": [
            "[========================================================================] 100%\n"
          ]
        }
      ]
    }
  ],
  "metadata": {
    "colab": {
      "provenance": []
    },
    "kernelspec": {
      "display_name": "Python 3",
      "name": "python3"
    },
    "language_info": {
      "name": "python"
    }
  },
  "nbformat": 4,
  "nbformat_minor": 0
}